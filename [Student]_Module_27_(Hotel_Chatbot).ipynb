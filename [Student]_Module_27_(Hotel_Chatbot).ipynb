{
  "cells": [
    {
      "cell_type": "markdown",
      "metadata": {
        "id": "view-in-github",
        "colab_type": "text"
      },
      "source": [
        "<a href=\"https://colab.research.google.com/github/HYEONJIN5/-/blob/main/%5BStudent%5D_Module_27_(Hotel_Chatbot).ipynb\" target=\"_parent\"><img src=\"https://colab.research.google.com/assets/colab-badge.svg\" alt=\"Open In Colab\"/></a>"
      ]
    },
    {
      "cell_type": "markdown",
      "metadata": {
        "id": "faUojVtgaTGc"
      },
      "source": [
        "# 호텔 챗봇\n",
        "\n",
        "이 노트북에서는 호텔 챗봇 문제를 다룹니다. 어떻게 하면 호텔 프론트 데스크에서 더 나은 고객 서비스를 제공할 수 있을까요? 간단한 방법 중 하나는 호텔에서 경험할 수 있는 일들에 관한 간단한 질문에 대답할 수 있는 FAQ 채팅 로봇을 갖는 것입니다. 챗봇을 갖는 것에는 많은 장점이 있습니다.\n",
        "\n",
        "1. 호텔의 매력을 높이고 정보 처리량을 늘립니다.\n",
        "2. 호텔에 대한 질문을 데이터 테이블 형식으로 수집할 수 있는 방법을 만듭니다.\n",
        "\n",
        "이 노트북에서는 두 가지 모델을 살펴볼 것입니다. doc2vec 모델과 코사인 유사성 모델입니다.\n"
      ]
    },
    {
      "cell_type": "markdown",
      "source": [
        "## 1. Doc2vec를 이용한 챗봇 기능\n",
        "\n",
        "챗봇을 만들기 위한 한 가지 유형의 모델을 더 다룰 것입니다. 코사인 유사성 모델 알고리즘은 두 문장 사이의 유사성을 찾는데 사용됩니다. 하지만 이제 신경망을 사용해서 이 문제를 해결해 보려합니다. 살펴보도록 하겠습니다.\n",
        "\n",
        "Doc2Vec은 기본적으로 문서에서 벡터를 생성하는 신경망 기반 모델입니다. Doc2vec을 이해하기 위해서는 word2vec도 이해해야 합니다.\n",
        "\n",
        "#### word2vec란?\n",
        "이는 삽입 단어를 생성하는 모델이며, 여기서는 텍스트의 큰 말뭉치를 입력으로 받고 일반적으로 수백 개 차원의 벡터 공간을 생성합니다.\n",
        "\n",
        "2013년 9월과 10월 사이에 구글의 연구팀에 의해 두 개의 논문에 소개되었습니다. Word2Vec의 기본 가정은 유사한 맥락을 공유하는 두 단어가 유사한 의미를 공유하며 결과적으로 모델에서 유사한 벡터 표현을 공유한다는 것입니다.\n",
        "\n",
        "예를 들어, \"은행\", \"화폐\", \"계좌\"는 \"달러\", \"대출\", \"신용\"과 같은 유사한 주변 단어와 함께 종종 사용되며, 따라서 Word2Vec에 따르면 이들은 유사한 벡터 표현을 공유합니다."
      ],
      "metadata": {
        "id": "uG1VQ1VjiUTU"
      }
    },
    {
      "cell_type": "markdown",
      "source": [
        "#### doc2vec 란?\n",
        "\n",
        "doc2vec의 목적은 말뭉치의 모든 단어에 대한 특징 벡터를 계산하는 word2vec와 달리 문장/단락/문서의 수치 표현을 생성하는 것입니다. doc2vec은 말뭉치의 모든 문서에 대한 특징 벡터를 계산합니다. doc2vec에 의해 생성된 벡터는 문장/단락/문서 간의 유사성 찾기와 같은 작업에 사용될 수 있습니다.\n",
        "\n",
        "<strong> doc2vec의 속성을 사용하여 우리만의 유사성 모델을 만들 것입니다.</strong>\n"
      ],
      "metadata": {
        "id": "gSsjKPA-qhyR"
      }
    },
    {
      "cell_type": "markdown",
      "source": [
        "관련 라이브러리를 가져오는 것으로 시작하겠습니다."
      ],
      "metadata": {
        "id": "2lGBslwpq0WO"
      }
    },
    {
      "cell_type": "code",
      "source": [
        "from gensim.models.doc2vec import Doc2Vec\n",
        "from gensim.models.doc2vec import TaggedDocument\n",
        "from nltk.tokenize import word_tokenize"
      ],
      "metadata": {
        "id": "nPGHUWTZrdPx"
      },
      "execution_count": 1,
      "outputs": []
    },
    {
      "cell_type": "markdown",
      "source": [
        "## 2. 챗봇에 지식 기반 추가\n",
        "\n",
        "챗봇의 대화 능력은 사용할 수 있는 데이터에 의해 정의됩니다. Ques.txt 파일과 ans.txt 파일에서 질문과 답변을 살펴보십시오. 이 챗봇은 기본적으로 질문에 대하여 질문 은행과 코사인 유사성을 확인하여 답을 찾으려고 노력할 것입니다."
      ],
      "metadata": {
        "id": "ExMshCpVt7RC"
      }
    },
    {
      "cell_type": "code",
      "source": [
        "import os\n",
        "\n",
        "filepath=os.getcwd()+r'//[Dataset] Module27 (ans).txt'\n",
        "corpus=open(filepath,'r',errors = 'ignore')\n",
        "raw_data_ans=corpus.read()\n",
        "print (raw_data_ans)\n",
        "\n",
        "print('-'*90)\n",
        "filepath=os.getcwd()+'//[Dataset] Module27(ques).txt'\n",
        "corpus=open(filepath,'r',errors = 'ignore')\n",
        "raw_data=corpus.read()\n",
        "print (raw_data)"
      ],
      "metadata": {
        "colab": {
          "base_uri": "https://localhost:8080/"
        },
        "id": "lH4QeSl0tmqn",
        "outputId": "aaad2db6-60b1-411c-9acf-a35da1c9481a"
      },
      "execution_count": 2,
      "outputs": [
        {
          "output_type": "stream",
          "name": "stdout",
          "text": [
            "200$ per night is the price for a basic suite.\n",
            "\n",
            "This establishment was constructed and inaugurated by John S. on the 23rd of September 1965.\n",
            "\n",
            "Breakfast is served from 7 AM to 10 AM.\n",
            "\n",
            "The breakfast menu is decided as per the head chefs decision on the night before; kindly contact hotel staff for information about the menu on the night before. \n",
            "\n",
            "The Vance Hotel is a singular establishment designed and constructed by Lindsey Vance in 1949; it has hosted many dignitaries and government officials over the years.\n",
            "\n",
            "There are 43 rooms in this hotel including one pent house suite.\n",
            "\n",
            "We offer 4 types of rooms: basic, mid-level, premium and penthouse.\n",
            "\n",
            "This hotel is called Vance Hotel.\n",
            "\n",
            "Yes, room service is available 24 hrs.\n",
            "\n",
            "To call room service, please dial '0' using the phone in your room.\n",
            "\n",
            "Yes we have one restaurant currently called 'Rouge'.\n",
            "\n",
            "There are 12 floors in the hotel.\n",
            "\n",
            "300$ per night is the standard price for a mid-level suite.\n",
            "\n",
            "500$ per night is the price for a premium suite.\n",
            "\n",
            "Yes, we have tuxedo services available at the reception.\n",
            "\n",
            "Yes, we have a laundry service at the reception.\n",
            "\n",
            "'Rouge' is open for dinner at 7pm.\n",
            "\n",
            "There is a waterfall 200 meters east from the hotel, and we offer taxi services for such destinations and more.\n",
            "\n",
            "Yes, we do have a spa; however, it is closed from 7pm onwards.\n",
            "\n",
            "Yes, we do have massage packages inside our hotel.\n",
            "\n",
            "Check in is at anytime between 10am and 1pm.\n",
            "\n",
            "Check out is at anytime between 4pm and 6pm.\n",
            "\n",
            "Yes, we do.\n",
            "\n",
            "Yes.\n",
            "\n",
            "For parking lot reservations, there is a surcharge depending on fixed rates; please ask at the reception for more information.\n",
            "\n",
            "Our reception is open 24 hours.\n",
            "\n",
            "No, you cannot book breakfast online.\n",
            "\n",
            "No, you cannot book the spa online.\n",
            "\n",
            "No, you cannot book that online.\n",
            "\n",
            "Yes, we do have the facilities to take care of pets and support them.\n",
            "\n",
            "Rates are per room.\n",
            "\n",
            "The rates may vary as per availability and demand.\n",
            "\n",
            "Yes.\n",
            "\n",
            "Yes.\n",
            "\n",
            "Yes.\n",
            "\n",
            "There are 4 main sizes available:  basic, mid-level, premium and penthouse.\n",
            "\n",
            "Yes, for table reservations please contact the reception through the phone.\n",
            "\n",
            "Yes, we do.\n",
            "\n",
            "We do not have child special rooms but we do have cribs available through a surcharge.\n",
            "\n",
            "Yes.\n",
            "\n",
            "Yes.\n",
            "\n",
            "Yes, we do have a shuttle service and taxi service.\n",
            "\n",
            "Yes.\n",
            "\n",
            "Yes, we do try our best to provide quality services to you; if there is any other requests, kindly contact the staff.\n",
            "\n",
            "Check at the reception.\n",
            "\n",
            "You can check it out on your online booking reservation.\n",
            "\n",
            "Contact the reception through phone so that they may attempt to retrieve the item.\n",
            "------------------------------------------------------------------------------------------\n",
            "What is the price of one night stay in basic suite?\n",
            "\n",
            "How old is this establishment?\n",
            "\n",
            "What time is breakfast served?\n",
            "\n",
            "What is the breakfast menu?\n",
            "\n",
            "What is the history behind this hotel or establishment?\n",
            "\n",
            "How many rooms are there in this hotel?\n",
            "\n",
            "What are the types of rooms or suites offered by the hotel?\n",
            "\n",
            "What is the name of the hotel?\n",
            "\n",
            "Is room service served 24 hours?\n",
            "\n",
            "How do I call for room service?\n",
            "\n",
            "Are there any restaurants in the hotel?\n",
            "\n",
            "How many floors are there in the hotel?\n",
            "\n",
            "What is the price of one night stay at the mid-level suite?\n",
            "\n",
            "What is the price of one night stay at the premium suite?\n",
            "\n",
            "Do you have tuxedo services?\n",
            "\n",
            "Do you have a laundry service?\n",
            "\n",
            "What time do the restaurants open for dinner?\n",
            "\n",
            "What are the near by tourist attractions?\n",
            "\n",
            "Is there a spa in the hotel?\n",
            "\n",
            "Is there anywhere I can get a massage?\n",
            "\n",
            "What time is the check in?\n",
            "\n",
            "What time is the check out?\n",
            "\n",
            "Do you offer handicapped rooms?\n",
            "\n",
            "Is parking available at the hotel?\n",
            "\n",
            "Can I reserve a parking lot?\n",
            "\n",
            "What are the reception opening hours?\n",
            "\n",
            "Can I also book breakfast online and what is the cost?\n",
            "\n",
            "Is it possible to book spa treatments online?\n",
            "\n",
            "Can I book tea time online?\n",
            "\n",
            "Can I bring my pet?\n",
            "\n",
            "Are the rates per person or per room?\n",
            "\n",
            "Why do the costs vary from day to day?\n",
            "\n",
            "Can I book two rooms of different categories?\n",
            "\n",
            "Can I book two rooms with different occupancy?\n",
            "\n",
            "Is Wi-Fi available at the hotel/in the room?\n",
            "\n",
            "Which size are the rooms?\n",
            "\n",
            "Can I reserve a table in a restaurant?\n",
            "\n",
            "Do you offer non-smoking rooms?\n",
            "\n",
            "Do you offer child rates?\n",
            "\n",
            "Can I use the spa area even if I am not staying in your hotel?\n",
            "\n",
            "Can I use the spa area after checking out?\n",
            "\n",
            "Do you offer hotel shuttles, for example, to the next airport or train station?\n",
            "\n",
            "Can I have breakfast/dinner even if I am not staying in your hotel?\n",
            "\n",
            "Are special requests, such as gluten-free meals or feather-free pillows, manageable?\n",
            "\n",
            "I have bought a Groupon-voucher, how can I redeem it in your hotel?\n",
            "\n",
            "Where can I get a copy of my invoice after departure?\n",
            "\n",
            "What should I do, if I lost or forgot something in my room?\n",
            "\n",
            "\n"
          ]
        }
      ]
    },
    {
      "cell_type": "markdown",
      "source": [
        "####  소문자로 변환\n",
        "\n",
        "모든 텍스트를 먼저 소문자로 변환합니다. 결과가 완료되면 검사해야 합니다."
      ],
      "metadata": {
        "id": "L3TLBJQfuMM1"
      }
    },
    {
      "cell_type": "code",
      "source": [
        "raw_data=raw_data.lower()\n",
        "print (raw_data)"
      ],
      "metadata": {
        "colab": {
          "base_uri": "https://localhost:8080/"
        },
        "id": "MJ8X3imuuOaK",
        "outputId": "87129caf-dd8c-4bbc-d3b1-270f45f5c9ee"
      },
      "execution_count": 3,
      "outputs": [
        {
          "output_type": "stream",
          "name": "stdout",
          "text": [
            "what is the price of one night stay in basic suite?\n",
            "\n",
            "how old is this establishment?\n",
            "\n",
            "what time is breakfast served?\n",
            "\n",
            "what is the breakfast menu?\n",
            "\n",
            "what is the history behind this hotel or establishment?\n",
            "\n",
            "how many rooms are there in this hotel?\n",
            "\n",
            "what are the types of rooms or suites offered by the hotel?\n",
            "\n",
            "what is the name of the hotel?\n",
            "\n",
            "is room service served 24 hours?\n",
            "\n",
            "how do i call for room service?\n",
            "\n",
            "are there any restaurants in the hotel?\n",
            "\n",
            "how many floors are there in the hotel?\n",
            "\n",
            "what is the price of one night stay at the mid-level suite?\n",
            "\n",
            "what is the price of one night stay at the premium suite?\n",
            "\n",
            "do you have tuxedo services?\n",
            "\n",
            "do you have a laundry service?\n",
            "\n",
            "what time do the restaurants open for dinner?\n",
            "\n",
            "what are the near by tourist attractions?\n",
            "\n",
            "is there a spa in the hotel?\n",
            "\n",
            "is there anywhere i can get a massage?\n",
            "\n",
            "what time is the check in?\n",
            "\n",
            "what time is the check out?\n",
            "\n",
            "do you offer handicapped rooms?\n",
            "\n",
            "is parking available at the hotel?\n",
            "\n",
            "can i reserve a parking lot?\n",
            "\n",
            "what are the reception opening hours?\n",
            "\n",
            "can i also book breakfast online and what is the cost?\n",
            "\n",
            "is it possible to book spa treatments online?\n",
            "\n",
            "can i book tea time online?\n",
            "\n",
            "can i bring my pet?\n",
            "\n",
            "are the rates per person or per room?\n",
            "\n",
            "why do the costs vary from day to day?\n",
            "\n",
            "can i book two rooms of different categories?\n",
            "\n",
            "can i book two rooms with different occupancy?\n",
            "\n",
            "is wi-fi available at the hotel/in the room?\n",
            "\n",
            "which size are the rooms?\n",
            "\n",
            "can i reserve a table in a restaurant?\n",
            "\n",
            "do you offer non-smoking rooms?\n",
            "\n",
            "do you offer child rates?\n",
            "\n",
            "can i use the spa area even if i am not staying in your hotel?\n",
            "\n",
            "can i use the spa area after checking out?\n",
            "\n",
            "do you offer hotel shuttles, for example, to the next airport or train station?\n",
            "\n",
            "can i have breakfast/dinner even if i am not staying in your hotel?\n",
            "\n",
            "are special requests, such as gluten-free meals or feather-free pillows, manageable?\n",
            "\n",
            "i have bought a groupon-voucher, how can i redeem it in your hotel?\n",
            "\n",
            "where can i get a copy of my invoice after departure?\n",
            "\n",
            "what should i do, if i lost or forgot something in my room?\n",
            "\n",
            "\n"
          ]
        }
      ]
    },
    {
      "cell_type": "markdown",
      "source": [
        "####  세분화, 표제어 추출,  단어 토큰화\n",
        "\n",
        "모듈 26 코사인 유사성 노트북에서 배운 방법을 참조하여 데이터를 세분화, 토큰화, 표제어 추출로 전처리 진행합니다."
      ],
      "metadata": {
        "id": "eCFLFbZkuldR"
      }
    },
    {
      "cell_type": "code",
      "source": [
        "import nltk\n",
        "nltk.download('punkt')\n",
        "nltk.download('wordnet')\n",
        "sent_tokens = nltk.sent_tokenize(raw_data)\n",
        "\n",
        "print(sent_tokens)"
      ],
      "metadata": {
        "colab": {
          "base_uri": "https://localhost:8080/"
        },
        "id": "XAecG_-dtS74",
        "outputId": "f4beafde-e443-4135-8dd8-4a3cd57d9b24"
      },
      "execution_count": 4,
      "outputs": [
        {
          "output_type": "stream",
          "name": "stderr",
          "text": [
            "[nltk_data] Downloading package punkt to /root/nltk_data...\n",
            "[nltk_data]   Unzipping tokenizers/punkt.zip.\n"
          ]
        },
        {
          "output_type": "stream",
          "name": "stdout",
          "text": [
            "['what is the price of one night stay in basic suite?', 'how old is this establishment?', 'what time is breakfast served?', 'what is the breakfast menu?', 'what is the history behind this hotel or establishment?', 'how many rooms are there in this hotel?', 'what are the types of rooms or suites offered by the hotel?', 'what is the name of the hotel?', 'is room service served 24 hours?', 'how do i call for room service?', 'are there any restaurants in the hotel?', 'how many floors are there in the hotel?', 'what is the price of one night stay at the mid-level suite?', 'what is the price of one night stay at the premium suite?', 'do you have tuxedo services?', 'do you have a laundry service?', 'what time do the restaurants open for dinner?', 'what are the near by tourist attractions?', 'is there a spa in the hotel?', 'is there anywhere i can get a massage?', 'what time is the check in?', 'what time is the check out?', 'do you offer handicapped rooms?', 'is parking available at the hotel?', 'can i reserve a parking lot?', 'what are the reception opening hours?', 'can i also book breakfast online and what is the cost?', 'is it possible to book spa treatments online?', 'can i book tea time online?', 'can i bring my pet?', 'are the rates per person or per room?', 'why do the costs vary from day to day?', 'can i book two rooms of different categories?', 'can i book two rooms with different occupancy?', 'is wi-fi available at the hotel/in the room?', 'which size are the rooms?', 'can i reserve a table in a restaurant?', 'do you offer non-smoking rooms?', 'do you offer child rates?', 'can i use the spa area even if i am not staying in your hotel?', 'can i use the spa area after checking out?', 'do you offer hotel shuttles, for example, to the next airport or train station?', 'can i have breakfast/dinner even if i am not staying in your hotel?', 'are special requests, such as gluten-free meals or feather-free pillows, manageable?', 'i have bought a groupon-voucher, how can i redeem it in your hotel?', 'where can i get a copy of my invoice after departure?', 'what should i do, if i lost or forgot something in my room?']\n"
          ]
        },
        {
          "output_type": "stream",
          "name": "stderr",
          "text": [
            "[nltk_data] Downloading package wordnet to /root/nltk_data...\n"
          ]
        }
      ]
    },
    {
      "cell_type": "markdown",
      "source": [
        "각 문장(문서)을 토큰화하고, 이를 고유한 태그와 함께 TaggedDocument로 변환하여 Doc2Vec 모델의 입력 데이터로 사용하기 위함입니다.\n"
      ],
      "metadata": {
        "id": "NiQtxZHUu-0d"
      }
    },
    {
      "cell_type": "code",
      "source": [
        "tagged_data = [TaggedDocument(words=word_tokenize(_d.lower()), tags=[str(i)]) for i, _d in enumerate(sent_tokens)]"
      ],
      "metadata": {
        "id": "y_Qd4F1GvDJD"
      },
      "execution_count": 5,
      "outputs": []
    },
    {
      "cell_type": "code",
      "source": [
        "tagged_data"
      ],
      "metadata": {
        "colab": {
          "base_uri": "https://localhost:8080/"
        },
        "id": "TxWU4FGQvLI4",
        "outputId": "248d807e-4f81-400f-f163-a811fa37b728"
      },
      "execution_count": 6,
      "outputs": [
        {
          "output_type": "execute_result",
          "data": {
            "text/plain": [
              "[TaggedDocument(words=['what', 'is', 'the', 'price', 'of', 'one', 'night', 'stay', 'in', 'basic', 'suite', '?'], tags=['0']),\n",
              " TaggedDocument(words=['how', 'old', 'is', 'this', 'establishment', '?'], tags=['1']),\n",
              " TaggedDocument(words=['what', 'time', 'is', 'breakfast', 'served', '?'], tags=['2']),\n",
              " TaggedDocument(words=['what', 'is', 'the', 'breakfast', 'menu', '?'], tags=['3']),\n",
              " TaggedDocument(words=['what', 'is', 'the', 'history', 'behind', 'this', 'hotel', 'or', 'establishment', '?'], tags=['4']),\n",
              " TaggedDocument(words=['how', 'many', 'rooms', 'are', 'there', 'in', 'this', 'hotel', '?'], tags=['5']),\n",
              " TaggedDocument(words=['what', 'are', 'the', 'types', 'of', 'rooms', 'or', 'suites', 'offered', 'by', 'the', 'hotel', '?'], tags=['6']),\n",
              " TaggedDocument(words=['what', 'is', 'the', 'name', 'of', 'the', 'hotel', '?'], tags=['7']),\n",
              " TaggedDocument(words=['is', 'room', 'service', 'served', '24', 'hours', '?'], tags=['8']),\n",
              " TaggedDocument(words=['how', 'do', 'i', 'call', 'for', 'room', 'service', '?'], tags=['9']),\n",
              " TaggedDocument(words=['are', 'there', 'any', 'restaurants', 'in', 'the', 'hotel', '?'], tags=['10']),\n",
              " TaggedDocument(words=['how', 'many', 'floors', 'are', 'there', 'in', 'the', 'hotel', '?'], tags=['11']),\n",
              " TaggedDocument(words=['what', 'is', 'the', 'price', 'of', 'one', 'night', 'stay', 'at', 'the', 'mid-level', 'suite', '?'], tags=['12']),\n",
              " TaggedDocument(words=['what', 'is', 'the', 'price', 'of', 'one', 'night', 'stay', 'at', 'the', 'premium', 'suite', '?'], tags=['13']),\n",
              " TaggedDocument(words=['do', 'you', 'have', 'tuxedo', 'services', '?'], tags=['14']),\n",
              " TaggedDocument(words=['do', 'you', 'have', 'a', 'laundry', 'service', '?'], tags=['15']),\n",
              " TaggedDocument(words=['what', 'time', 'do', 'the', 'restaurants', 'open', 'for', 'dinner', '?'], tags=['16']),\n",
              " TaggedDocument(words=['what', 'are', 'the', 'near', 'by', 'tourist', 'attractions', '?'], tags=['17']),\n",
              " TaggedDocument(words=['is', 'there', 'a', 'spa', 'in', 'the', 'hotel', '?'], tags=['18']),\n",
              " TaggedDocument(words=['is', 'there', 'anywhere', 'i', 'can', 'get', 'a', 'massage', '?'], tags=['19']),\n",
              " TaggedDocument(words=['what', 'time', 'is', 'the', 'check', 'in', '?'], tags=['20']),\n",
              " TaggedDocument(words=['what', 'time', 'is', 'the', 'check', 'out', '?'], tags=['21']),\n",
              " TaggedDocument(words=['do', 'you', 'offer', 'handicapped', 'rooms', '?'], tags=['22']),\n",
              " TaggedDocument(words=['is', 'parking', 'available', 'at', 'the', 'hotel', '?'], tags=['23']),\n",
              " TaggedDocument(words=['can', 'i', 'reserve', 'a', 'parking', 'lot', '?'], tags=['24']),\n",
              " TaggedDocument(words=['what', 'are', 'the', 'reception', 'opening', 'hours', '?'], tags=['25']),\n",
              " TaggedDocument(words=['can', 'i', 'also', 'book', 'breakfast', 'online', 'and', 'what', 'is', 'the', 'cost', '?'], tags=['26']),\n",
              " TaggedDocument(words=['is', 'it', 'possible', 'to', 'book', 'spa', 'treatments', 'online', '?'], tags=['27']),\n",
              " TaggedDocument(words=['can', 'i', 'book', 'tea', 'time', 'online', '?'], tags=['28']),\n",
              " TaggedDocument(words=['can', 'i', 'bring', 'my', 'pet', '?'], tags=['29']),\n",
              " TaggedDocument(words=['are', 'the', 'rates', 'per', 'person', 'or', 'per', 'room', '?'], tags=['30']),\n",
              " TaggedDocument(words=['why', 'do', 'the', 'costs', 'vary', 'from', 'day', 'to', 'day', '?'], tags=['31']),\n",
              " TaggedDocument(words=['can', 'i', 'book', 'two', 'rooms', 'of', 'different', 'categories', '?'], tags=['32']),\n",
              " TaggedDocument(words=['can', 'i', 'book', 'two', 'rooms', 'with', 'different', 'occupancy', '?'], tags=['33']),\n",
              " TaggedDocument(words=['is', 'wi-fi', 'available', 'at', 'the', 'hotel/in', 'the', 'room', '?'], tags=['34']),\n",
              " TaggedDocument(words=['which', 'size', 'are', 'the', 'rooms', '?'], tags=['35']),\n",
              " TaggedDocument(words=['can', 'i', 'reserve', 'a', 'table', 'in', 'a', 'restaurant', '?'], tags=['36']),\n",
              " TaggedDocument(words=['do', 'you', 'offer', 'non-smoking', 'rooms', '?'], tags=['37']),\n",
              " TaggedDocument(words=['do', 'you', 'offer', 'child', 'rates', '?'], tags=['38']),\n",
              " TaggedDocument(words=['can', 'i', 'use', 'the', 'spa', 'area', 'even', 'if', 'i', 'am', 'not', 'staying', 'in', 'your', 'hotel', '?'], tags=['39']),\n",
              " TaggedDocument(words=['can', 'i', 'use', 'the', 'spa', 'area', 'after', 'checking', 'out', '?'], tags=['40']),\n",
              " TaggedDocument(words=['do', 'you', 'offer', 'hotel', 'shuttles', ',', 'for', 'example', ',', 'to', 'the', 'next', 'airport', 'or', 'train', 'station', '?'], tags=['41']),\n",
              " TaggedDocument(words=['can', 'i', 'have', 'breakfast/dinner', 'even', 'if', 'i', 'am', 'not', 'staying', 'in', 'your', 'hotel', '?'], tags=['42']),\n",
              " TaggedDocument(words=['are', 'special', 'requests', ',', 'such', 'as', 'gluten-free', 'meals', 'or', 'feather-free', 'pillows', ',', 'manageable', '?'], tags=['43']),\n",
              " TaggedDocument(words=['i', 'have', 'bought', 'a', 'groupon-voucher', ',', 'how', 'can', 'i', 'redeem', 'it', 'in', 'your', 'hotel', '?'], tags=['44']),\n",
              " TaggedDocument(words=['where', 'can', 'i', 'get', 'a', 'copy', 'of', 'my', 'invoice', 'after', 'departure', '?'], tags=['45']),\n",
              " TaggedDocument(words=['what', 'should', 'i', 'do', ',', 'if', 'i', 'lost', 'or', 'forgot', 'something', 'in', 'my', 'room', '?'], tags=['46'])]"
            ]
          },
          "metadata": {},
          "execution_count": 6
        }
      ]
    },
    {
      "cell_type": "code",
      "source": [
        "max_epochs = 100\n",
        "vec_size = 20 # 벡터가 더 크려면 이것을 증가시키세요. 이것은 더 많은 차이를 의미합니다.\n",
        "alpha = 0.025"
      ],
      "metadata": {
        "id": "7TB2IekAv1Ha"
      },
      "execution_count": null,
      "outputs": []
    },
    {
      "cell_type": "markdown",
      "source": [
        "다음 단계는 모델을 훈련시키는 것입니다. 이전처럼 훈련 과정을 실행하기 위해 `model.train` 함수를 사용하게 될 것입니다. Doc2vec 모델을 훈련하는 방법에 대한 자세한 정보는 [문서](https://radimrehurek.com/gensim/models/doc2vec.html) 를 참조하십시오."
      ],
      "metadata": {
        "id": "cN-pK9lrwE1f"
      }
    },
    {
      "cell_type": "code",
      "source": [
        "model = Doc2Vec(vector_size=vec_size,\n",
        "                alpha=alpha,\n",
        "                min_alpha=0.00025,\n",
        "                min_count=1,  # 단어 빈도 조정\n",
        "                dm=1)\n",
        "\n",
        "model.build_vocab(tagged_data)    # 학습할 때 사용할 어휘(vocabulary)를 구축\n",
        "print('Model.corpus_count :', model.corpus_count)\n",
        "\n",
        "for epoch in range(max_epochs):\n",
        "    print('iteration {0}'.format(epoch))\n",
        "    model.train(tagged_data,\n",
        "                total_examples=model.corpus_count,\n",
        "                epochs=100)\n",
        "    model.alpha -= 0.0002\n",
        "    model.min_alpha = model.alpha\n",
        "\n",
        "model.save(\"d2v.model\")\n",
        "print(\"Model Saved\")\n"
      ],
      "metadata": {
        "colab": {
          "base_uri": "https://localhost:8080/"
        },
        "id": "A7jWHNvOxKLR",
        "outputId": "45a17851-ab06-4b2a-8e8e-1b0f57f99950"
      },
      "execution_count": null,
      "outputs": [
        {
          "output_type": "stream",
          "name": "stdout",
          "text": [
            "Model.corpus_count : 47\n",
            "iteration 0\n"
          ]
        },
        {
          "output_type": "stream",
          "name": "stderr",
          "text": [
            "WARNING:gensim.models.word2vec:Effective 'alpha' higher than previous training cycles\n"
          ]
        },
        {
          "output_type": "stream",
          "name": "stdout",
          "text": [
            "iteration 1\n",
            "iteration 2\n",
            "iteration 3\n",
            "iteration 4\n",
            "iteration 5\n",
            "iteration 6\n",
            "iteration 7\n",
            "iteration 8\n",
            "iteration 9\n",
            "iteration 10\n",
            "iteration 11\n",
            "iteration 12\n",
            "iteration 13\n",
            "iteration 14\n",
            "iteration 15\n",
            "iteration 16\n",
            "iteration 17\n",
            "iteration 18\n",
            "iteration 19\n",
            "iteration 20\n",
            "iteration 21\n",
            "iteration 22\n",
            "iteration 23\n",
            "iteration 24\n",
            "iteration 25\n",
            "iteration 26\n",
            "iteration 27\n",
            "iteration 28\n",
            "iteration 29\n",
            "iteration 30\n",
            "iteration 31\n",
            "iteration 32\n",
            "iteration 33\n",
            "iteration 34\n",
            "iteration 35\n",
            "iteration 36\n",
            "iteration 37\n",
            "iteration 38\n",
            "iteration 39\n",
            "iteration 40\n",
            "iteration 41\n",
            "iteration 42\n",
            "iteration 43\n",
            "iteration 44\n",
            "iteration 45\n",
            "iteration 46\n",
            "iteration 47\n",
            "iteration 48\n",
            "iteration 49\n",
            "iteration 50\n",
            "iteration 51\n",
            "iteration 52\n",
            "iteration 53\n",
            "iteration 54\n",
            "iteration 55\n",
            "iteration 56\n",
            "iteration 57\n",
            "iteration 58\n",
            "iteration 59\n",
            "iteration 60\n",
            "iteration 61\n",
            "iteration 62\n",
            "iteration 63\n",
            "iteration 64\n",
            "iteration 65\n",
            "iteration 66\n",
            "iteration 67\n",
            "iteration 68\n",
            "iteration 69\n",
            "iteration 70\n",
            "iteration 71\n",
            "iteration 72\n",
            "iteration 73\n",
            "iteration 74\n",
            "iteration 75\n",
            "iteration 76\n",
            "iteration 77\n",
            "iteration 78\n",
            "iteration 79\n",
            "iteration 80\n",
            "iteration 81\n",
            "iteration 82\n",
            "iteration 83\n",
            "iteration 84\n",
            "iteration 85\n",
            "iteration 86\n",
            "iteration 87\n",
            "iteration 88\n",
            "iteration 89\n",
            "iteration 90\n",
            "iteration 91\n",
            "iteration 92\n",
            "iteration 93\n",
            "iteration 94\n",
            "iteration 95\n",
            "iteration 96\n",
            "iteration 97\n",
            "iteration 98\n",
            "iteration 99\n",
            "Model Saved\n"
          ]
        }
      ]
    },
    {
      "cell_type": "markdown",
      "source": [
        "### doc2vec 모델 평가"
      ],
      "metadata": {
        "id": "7W3-P9FlyHNR"
      }
    },
    {
      "cell_type": "code",
      "source": [
        "from gensim.models.doc2vec import Doc2Vec\n",
        "model= Doc2Vec.load(\"d2v.model\")"
      ],
      "metadata": {
        "id": "crFsugtFySA8"
      },
      "execution_count": null,
      "outputs": []
    },
    {
      "cell_type": "code",
      "source": [
        "test_data = word_tokenize(\"How much is the price?\".lower())"
      ],
      "metadata": {
        "id": "o3MsIvIqyTQQ"
      },
      "execution_count": null,
      "outputs": []
    },
    {
      "cell_type": "markdown",
      "source": [
        "`model.infer_vector` 함수를 사용하여 문서와 관련된 벡터를 추론할 수 있습니다. 그런 다음`most_similar` 함수를 사용하여 우리가 만든 벡터와 가장 유사한 벡터를 찾을 수 있습니다. 결과는 어떻습니까?"
      ],
      "metadata": {
        "id": "tOqWgSub1SyN"
      }
    },
    {
      "cell_type": "code",
      "source": [
        "v1 = model.infer_vector(test_data)\n",
        "print(\"V1_infer\", v1)"
      ],
      "metadata": {
        "colab": {
          "base_uri": "https://localhost:8080/"
        },
        "id": "L25xsRi92Gvr",
        "outputId": "f4bd0682-b0c2-42b5-c1cc-7ff8631643f3"
      },
      "execution_count": null,
      "outputs": [
        {
          "output_type": "stream",
          "name": "stdout",
          "text": [
            "V1_infer [-0.05881588  0.24674602  0.42588916  0.46498293 -0.30268148 -0.07784232\n",
            " -0.23352279  0.42432407 -0.8097049  -0.04114905  0.20023641  0.09077105\n",
            " -0.03127469 -0.01143565 -0.02577133  0.05813007  0.30024776 -0.04111924\n",
            "  0.00219092 -0.33049843]\n"
          ]
        }
      ]
    },
    {
      "cell_type": "code",
      "source": [
        "similar_doc = model.docvecs.most_similar(positive = [v1], topn = 4) #positive is an attribute that shows positive correlation first followed by the correlation value\n",
        "print(similar_doc)"
      ],
      "metadata": {
        "colab": {
          "base_uri": "https://localhost:8080/"
        },
        "id": "dpthPcyL4Qmi",
        "outputId": "97f77d34-21b8-499a-b83d-be7c8b697381"
      },
      "execution_count": null,
      "outputs": [
        {
          "output_type": "stream",
          "name": "stdout",
          "text": [
            "[('31', 0.7336662411689758), ('29', 0.7108978033065796), ('25', 0.7104790210723877), ('8', 0.6514906287193298)]\n"
          ]
        },
        {
          "output_type": "stream",
          "name": "stderr",
          "text": [
            "<ipython-input-13-b6d9331f25d2>:1: DeprecationWarning: Call to deprecated `docvecs` (The `docvecs` property has been renamed `dv`.).\n",
            "  similar_doc = model.docvecs.most_similar(positive = [v1], topn = 4) #positive is an attribute that shows positive correlation first followed by the correlation value\n"
          ]
        }
      ]
    },
    {
      "cell_type": "code",
      "source": [
        "num,_ = similar_doc[0]\n",
        "num = int(num)\n",
        "tagged_data[num]"
      ],
      "metadata": {
        "colab": {
          "base_uri": "https://localhost:8080/"
        },
        "id": "Sjg3bntP43Xx",
        "outputId": "f8d57ee7-c12d-4a75-c8ac-bc031285576b"
      },
      "execution_count": null,
      "outputs": [
        {
          "output_type": "execute_result",
          "data": {
            "text/plain": [
              "TaggedDocument(words=['why', 'do', 'the', 'costs', 'vary', 'from', 'day', 'to', 'day', '?'], tags=['31'])"
            ]
          },
          "metadata": {},
          "execution_count": 14
        }
      ]
    },
    {
      "cell_type": "code",
      "source": [
        "sent_tokens_ans = nltk.sent_tokenize(raw_data_ans)\n",
        "\n",
        "print(sent_tokens_ans[num])"
      ],
      "metadata": {
        "colab": {
          "base_uri": "https://localhost:8080/"
        },
        "id": "j4KnvHHT6a3a",
        "outputId": "d9f05149-846a-4d1c-ac20-ca708a7e27ee"
      },
      "execution_count": null,
      "outputs": [
        {
          "output_type": "stream",
          "name": "stdout",
          "text": [
            "The rates may vary as per availability and demand.\n"
          ]
        }
      ]
    },
    {
      "cell_type": "markdown",
      "source": [
        "이전 코드 블록의 출력에서 이 모델이 생각했던 것 만큼 효과적이지 않다는 것이 분명합니다. 이 모델이 성공하기를 기대했지만 실패한 이유가 있습니까?"
      ],
      "metadata": {
        "id": "Bklb9A9Z6iYF"
      }
    },
    {
      "cell_type": "markdown",
      "source": [
        "자세한 내용을 보려면 이 [링크](https://stackoverflow.com/questions/58206571/doc2vec-find-the-similar-sentence) 를 클릭하십시오. 이 문제의 요지는 다음과 같습니다.\n",
        "\n",
        "> Doc2Vec는 장난감 크기(toy-size)의 데이터셋에서 좋은 결과를 얻을 수 없으므로, 더 많은 데이터를 사용하기 전까지는 의미 있는 결과를 기대해서는 안 됩니다."
      ],
      "metadata": {
        "id": "KDuV4QR97bFc"
      }
    },
    {
      "cell_type": "markdown",
      "metadata": {
        "id": "pNceALtVaTGc"
      },
      "source": [
        "## 3. 챗봇에 지식 기반 추가\n",
        "\n",
        "챗봇의 대화 능력은 사용할 수 있는 데이터에 의해 정의됩니다. Ques.txt 파일과 ans.txt 파일에서 질문과 답변을 살펴보십시오. 이 챗봇은 기본적으로 질문에 대하여 질문 은행과 코사인 유사성을 확인하여 답을 찾으려고 노력할 것입니다."
      ]
    },
    {
      "cell_type": "code",
      "execution_count": null,
      "metadata": {
        "id": "e__0bwBTaTGd"
      },
      "outputs": [],
      "source": [
        "import nltk # 텍스트 데이터를 처리\n",
        "import numpy as np\n",
        "import random\n",
        "import operator\n",
        "import string # 표준 파이썬 문자열을 처리\n",
        "from sklearn.metrics.pairwise import cosine_similarity\n",
        "from sklearn.feature_extraction.text import TfidfVectorizer"
      ]
    },
    {
      "cell_type": "markdown",
      "metadata": {
        "id": "3lJ5dsOvaTGo"
      },
      "source": [
        "####  소문자로 변환\n",
        "\n",
        "모든 텍스트를 먼저 소문자로 변환합니다. 결과가 완료되면 검사해야 합니다."
      ]
    },
    {
      "cell_type": "code",
      "execution_count": null,
      "metadata": {
        "colab": {
          "base_uri": "https://localhost:8080/"
        },
        "id": "KdWMJwPfaTGo",
        "outputId": "918f56f7-d466-44e0-9f3d-7fa218f77a2f"
      },
      "outputs": [
        {
          "output_type": "stream",
          "name": "stdout",
          "text": [
            "what is the price of one night stay in basic suite?\n",
            "\n",
            "how old is this establishment?\n",
            "\n",
            "what time is breakfast served?\n",
            "\n",
            "what is the breakfast menu?\n",
            "\n",
            "what is the history behind this hotel or establishment?\n",
            "\n",
            "how many rooms are there in this hotel?\n",
            "\n",
            "what are the types of rooms or suites offered by the hotel?\n",
            "\n",
            "what is the name of the hotel?\n",
            "\n",
            "is room service served 24 hours?\n",
            "\n",
            "how do i call for room service?\n",
            "\n",
            "are there any restaurants in the hotel?\n",
            "\n",
            "how many floors are there in the hotel?\n",
            "\n",
            "what is the price of one night stay at the mid-level suite?\n",
            "\n",
            "what is the price of one night stay at the premium suite?\n",
            "\n",
            "do you have tuxedo services?\n",
            "\n",
            "do you have a laundry service?\n",
            "\n",
            "what time do the restaurants open for dinner?\n",
            "\n",
            "what are the near by tourist attractions?\n",
            "\n",
            "is there a spa in the hotel?\n",
            "\n",
            "is there anywhere i can get a massage?\n",
            "\n",
            "what time is the check in?\n",
            "\n",
            "what time is the check out?\n",
            "\n",
            "do you offer handicapped rooms?\n",
            "\n",
            "is parking available at the hotel?\n",
            "\n",
            "can i reserve a parking lot?\n",
            "\n",
            "what are the reception opening hours?\n",
            "\n",
            "can i also book breakfast online and what is the cost?\n",
            "\n",
            "is it possible to book spa treatments online?\n",
            "\n",
            "can i book tea time online?\n",
            "\n",
            "can i bring my pet?\n",
            "\n",
            "are the rates per person or per room?\n",
            "\n",
            "why do the costs vary from day to day?\n",
            "\n",
            "can i book two rooms of different categories?\n",
            "\n",
            "can i book two rooms with different occupancy?\n",
            "\n",
            "is wi-fi available at the hotel/in the room?\n",
            "\n",
            "which size are the rooms?\n",
            "\n",
            "can i reserve a table in a restaurant?\n",
            "\n",
            "do you offer non-smoking rooms?\n",
            "\n",
            "do you offer child rates?\n",
            "\n",
            "can i use the spa area even if i am not staying in your hotel?\n",
            "\n",
            "can i use the spa area after checking out?\n",
            "\n",
            "do you offer hotel shuttles, for example, to the next airport or train station?\n",
            "\n",
            "can i have breakfast/dinner even if i am not staying in your hotel?\n",
            "\n",
            "are special requests, such as gluten-free meals or feather-free pillows, manageable?\n",
            "\n",
            "i have bought a groupon-voucher, how can i redeem it in your hotel?\n",
            "\n",
            "where can i get a copy of my invoice after departure?\n",
            "\n",
            "what should i do, if i lost or forgot something in my room?\n",
            "\n",
            "\n"
          ]
        }
      ],
      "source": [
        "raw_data=raw_data.lower()\n",
        "print (raw_data)"
      ]
    },
    {
      "cell_type": "markdown",
      "metadata": {
        "id": "t729o2v7aTGp"
      },
      "source": [
        "####  세분화, 표제어 추출,  단어 토큰화\n",
        "\n",
        "모듈 26 코사인 유사성 노트북에서 배운 방법을 참조하여 데이터를 세분화, 토큰화, 표제어 추출로 전처리 진행합니다."
      ]
    },
    {
      "cell_type": "code",
      "execution_count": null,
      "metadata": {
        "colab": {
          "base_uri": "https://localhost:8080/"
        },
        "id": "bd6adnm0aTGp",
        "outputId": "c95e54f3-4b8d-4a81-f183-0523dfa510ad"
      },
      "outputs": [
        {
          "output_type": "stream",
          "name": "stdout",
          "text": [
            "['what is the price of one night stay in basic suite?', 'how old is this establishment?', 'what time is breakfast served?', 'what is the breakfast menu?', 'what is the history behind this hotel or establishment?', 'how many rooms are there in this hotel?', 'what are the types of rooms or suites offered by the hotel?', 'what is the name of the hotel?', 'is room service served 24 hours?', 'how do i call for room service?', 'are there any restaurants in the hotel?', 'how many floors are there in the hotel?', 'what is the price of one night stay at the mid-level suite?', 'what is the price of one night stay at the premium suite?', 'do you have tuxedo services?', 'do you have a laundry service?', 'what time do the restaurants open for dinner?', 'what are the near by tourist attractions?', 'is there a spa in the hotel?', 'is there anywhere i can get a massage?', 'what time is the check in?', 'what time is the check out?', 'do you offer handicapped rooms?', 'is parking available at the hotel?', 'can i reserve a parking lot?', 'what are the reception opening hours?', 'can i also book breakfast online and what is the cost?', 'is it possible to book spa treatments online?', 'can i book tea time online?', 'can i bring my pet?', 'are the rates per person or per room?', 'why do the costs vary from day to day?', 'can i book two rooms of different categories?', 'can i book two rooms with different occupancy?', 'is wi-fi available at the hotel/in the room?', 'which size are the rooms?', 'can i reserve a table in a restaurant?', 'do you offer non-smoking rooms?', 'do you offer child rates?', 'can i use the spa area even if i am not staying in your hotel?', 'can i use the spa area after checking out?', 'do you offer hotel shuttles, for example, to the next airport or train station?', 'can i have breakfast/dinner even if i am not staying in your hotel?', 'are special requests, such as gluten-free meals or feather-free pillows, manageable?', 'i have bought a groupon-voucher, how can i redeem it in your hotel?', 'where can i get a copy of my invoice after departure?', 'what should i do, if i lost or forgot something in my room?']\n"
          ]
        },
        {
          "output_type": "stream",
          "name": "stderr",
          "text": [
            "[nltk_data] Downloading package punkt to /root/nltk_data...\n",
            "[nltk_data]   Package punkt is already up-to-date!\n",
            "[nltk_data] Downloading package wordnet to /root/nltk_data...\n",
            "[nltk_data]   Package wordnet is already up-to-date!\n"
          ]
        }
      ],
      "source": [
        "import nltk\n",
        "nltk.download('punkt')\n",
        "nltk.download('wordnet')\n",
        "sent_tokens = nltk.sent_tokenize(raw_data)\n",
        "\n",
        "print(sent_tokens)"
      ]
    },
    {
      "cell_type": "code",
      "execution_count": null,
      "metadata": {
        "colab": {
          "base_uri": "https://localhost:8080/"
        },
        "id": "RRuhV6wnaTGp",
        "outputId": "01a12acd-9a35-4e9a-b660-8ec8873211a6"
      },
      "outputs": [
        {
          "output_type": "stream",
          "name": "stdout",
          "text": [
            "['200$ per night is the price for a basic suite.', 'This establishment was constructed and inaugurated by John S. on the 23rd of September 1965.', 'Breakfast is served from 7 AM to 10 AM.', 'The breakfast menu is decided as per the head chefs decision on the night before; kindly contact hotel staff for information about the menu on the night before.', 'The Vance Hotel is a singular establishment designed and constructed by Lindsey Vance in 1949; it has hosted many dignitaries and government officials over the years.', 'There are 43 rooms in this hotel including one pent house suite.', 'We offer 4 types of rooms: basic, mid-level, premium and penthouse.', 'This hotel is called Vance Hotel.', 'Yes, room service is available 24 hrs.', \"To call room service, please dial '0' using the phone in your room.\", \"Yes we have one restaurant currently called 'Rouge'.\", 'There are 12 floors in the hotel.', '300$ per night is the standard price for a mid-level suite.', '500$ per night is the price for a premium suite.', 'Yes, we have tuxedo services available at the reception.', 'Yes, we have a laundry service at the reception.', \"'Rouge' is open for dinner at 7pm.\", 'There is a waterfall 200 meters east from the hotel, and we offer taxi services for such destinations and more.', 'Yes, we do have a spa; however, it is closed from 7pm onwards.', 'Yes, we do have massage packages inside our hotel.', 'Check in is at anytime between 10am and 1pm.', 'Check out is at anytime between 4pm and 6pm.', 'Yes, we do.', 'Yes.', 'For parking lot reservations, there is a surcharge depending on fixed rates; please ask at the reception for more information.', 'Our reception is open 24 hours.', 'No, you cannot book breakfast online.', 'No, you cannot book the spa online.', 'No, you cannot book that online.', 'Yes, we do have the facilities to take care of pets and support them.', 'Rates are per room.', 'The rates may vary as per availability and demand.', 'Yes.', 'Yes.', 'Yes.', 'There are 4 main sizes available:  basic, mid-level, premium and penthouse.', 'Yes, for table reservations please contact the reception through the phone.', 'Yes, we do.', 'We do not have child special rooms but we do have cribs available through a surcharge.', 'Yes.', 'Yes.', 'Yes, we do have a shuttle service and taxi service.', 'Yes.', 'Yes, we do try our best to provide quality services to you; if there is any other requests, kindly contact the staff.', 'Check at the reception.', 'You can check it out on your online booking reservation.', 'Contact the reception through phone so that they may attempt to retrieve the item.']\n"
          ]
        }
      ],
      "source": [
        "sent_tokens_ans = nltk.sent_tokenize(raw_data_ans)\n",
        "print(sent_tokens_ans)"
      ]
    },
    {
      "cell_type": "code",
      "execution_count": null,
      "metadata": {
        "colab": {
          "base_uri": "https://localhost:8080/"
        },
        "id": "h6JFAfDRaTGp",
        "outputId": "6928c186-c513-4c6d-81c6-0011da9f69f3"
      },
      "outputs": [
        {
          "output_type": "stream",
          "name": "stdout",
          "text": [
            "{'what is the price of one night stay in basic suite?': '200$ per night is the price for a basic suite.', 'how old is this establishment?': 'This establishment was constructed and inaugurated by John S. on the 23rd of September 1965.', 'what time is breakfast served?': 'Breakfast is served from 7 AM to 10 AM.', 'what is the breakfast menu?': 'The breakfast menu is decided as per the head chefs decision on the night before; kindly contact hotel staff for information about the menu on the night before.', 'what is the history behind this hotel or establishment?': 'The Vance Hotel is a singular establishment designed and constructed by Lindsey Vance in 1949; it has hosted many dignitaries and government officials over the years.', 'how many rooms are there in this hotel?': 'There are 43 rooms in this hotel including one pent house suite.', 'what are the types of rooms or suites offered by the hotel?': 'We offer 4 types of rooms: basic, mid-level, premium and penthouse.', 'what is the name of the hotel?': 'This hotel is called Vance Hotel.', 'is room service served 24 hours?': 'Yes, room service is available 24 hrs.', 'how do i call for room service?': \"To call room service, please dial '0' using the phone in your room.\", 'are there any restaurants in the hotel?': \"Yes we have one restaurant currently called 'Rouge'.\", 'how many floors are there in the hotel?': 'There are 12 floors in the hotel.', 'what is the price of one night stay at the mid-level suite?': '300$ per night is the standard price for a mid-level suite.', 'what is the price of one night stay at the premium suite?': '500$ per night is the price for a premium suite.', 'do you have tuxedo services?': 'Yes, we have tuxedo services available at the reception.', 'do you have a laundry service?': 'Yes, we have a laundry service at the reception.', 'what time do the restaurants open for dinner?': \"'Rouge' is open for dinner at 7pm.\", 'what are the near by tourist attractions?': 'There is a waterfall 200 meters east from the hotel, and we offer taxi services for such destinations and more.', 'is there a spa in the hotel?': 'Yes, we do have a spa; however, it is closed from 7pm onwards.', 'is there anywhere i can get a massage?': 'Yes, we do have massage packages inside our hotel.', 'what time is the check in?': 'Check in is at anytime between 10am and 1pm.', 'what time is the check out?': 'Check out is at anytime between 4pm and 6pm.', 'do you offer handicapped rooms?': 'Yes, we do.', 'is parking available at the hotel?': 'Yes.', 'can i reserve a parking lot?': 'For parking lot reservations, there is a surcharge depending on fixed rates; please ask at the reception for more information.', 'what are the reception opening hours?': 'Our reception is open 24 hours.', 'can i also book breakfast online and what is the cost?': 'No, you cannot book breakfast online.', 'is it possible to book spa treatments online?': 'No, you cannot book the spa online.', 'can i book tea time online?': 'No, you cannot book that online.', 'can i bring my pet?': 'Yes, we do have the facilities to take care of pets and support them.', 'are the rates per person or per room?': 'Rates are per room.', 'why do the costs vary from day to day?': 'The rates may vary as per availability and demand.', 'can i book two rooms of different categories?': 'Yes.', 'can i book two rooms with different occupancy?': 'Yes.', 'is wi-fi available at the hotel/in the room?': 'Yes.', 'which size are the rooms?': 'There are 4 main sizes available:  basic, mid-level, premium and penthouse.', 'can i reserve a table in a restaurant?': 'Yes, for table reservations please contact the reception through the phone.', 'do you offer non-smoking rooms?': 'Yes, we do.', 'do you offer child rates?': 'We do not have child special rooms but we do have cribs available through a surcharge.', 'can i use the spa area even if i am not staying in your hotel?': 'Yes.', 'can i use the spa area after checking out?': 'Yes.', 'do you offer hotel shuttles, for example, to the next airport or train station?': 'Yes, we do have a shuttle service and taxi service.', 'can i have breakfast/dinner even if i am not staying in your hotel?': 'Yes.', 'are special requests, such as gluten-free meals or feather-free pillows, manageable?': 'Yes, we do try our best to provide quality services to you; if there is any other requests, kindly contact the staff.', 'i have bought a groupon-voucher, how can i redeem it in your hotel?': 'Check at the reception.', 'where can i get a copy of my invoice after departure?': 'You can check it out on your online booking reservation.', 'what should i do, if i lost or forgot something in my room?': 'Contact the reception through phone so that they may attempt to retrieve the item.'}\n"
          ]
        }
      ],
      "source": [
        "res = {sent_tokens[i]: sent_tokens_ans[i] for i in range(len(sent_tokens))}\n",
        "print(res)"
      ]
    },
    {
      "cell_type": "code",
      "execution_count": null,
      "metadata": {
        "colab": {
          "base_uri": "https://localhost:8080/"
        },
        "id": "LYI2uuyTaTGq",
        "outputId": "307b41c7-81f3-4402-8a79-404c057f6531"
      },
      "outputs": [
        {
          "output_type": "stream",
          "name": "stdout",
          "text": [
            "['what', 'is', 'the', 'price', 'of', 'one', 'night', 'stay', 'in', 'basic', 'suite', '?', 'how', 'old', 'is', 'this', 'establishment', '?', 'what', 'time', 'is', 'breakfast', 'served', '?', 'what', 'is', 'the', 'breakfast', 'menu', '?', 'what', 'is', 'the', 'history', 'behind', 'this', 'hotel', 'or', 'establishment', '?', 'how', 'many', 'rooms', 'are', 'there', 'in', 'this', 'hotel', '?', 'what', 'are', 'the', 'types', 'of', 'rooms', 'or', 'suites', 'offered', 'by', 'the', 'hotel', '?', 'what', 'is', 'the', 'name', 'of', 'the', 'hotel', '?', 'is', 'room', 'service', 'served', '24', 'hours', '?', 'how', 'do', 'i', 'call', 'for', 'room', 'service', '?', 'are', 'there', 'any', 'restaurants', 'in', 'the', 'hotel', '?', 'how', 'many', 'floors', 'are', 'there', 'in', 'the', 'hotel', '?', 'what', 'is', 'the', 'price', 'of', 'one', 'night', 'stay', 'at', 'the', 'mid-level', 'suite', '?', 'what', 'is', 'the', 'price', 'of', 'one', 'night', 'stay', 'at', 'the', 'premium', 'suite', '?', 'do', 'you', 'have', 'tuxedo', 'services', '?', 'do', 'you', 'have', 'a', 'laundry', 'service', '?', 'what', 'time', 'do', 'the', 'restaurants', 'open', 'for', 'dinner', '?', 'what', 'are', 'the', 'near', 'by', 'tourist', 'attractions', '?', 'is', 'there', 'a', 'spa', 'in', 'the', 'hotel', '?', 'is', 'there', 'anywhere', 'i', 'can', 'get', 'a', 'massage', '?', 'what', 'time', 'is', 'the', 'check', 'in', '?', 'what', 'time', 'is', 'the', 'check', 'out', '?', 'do', 'you', 'offer', 'handicapped', 'rooms', '?', 'is', 'parking', 'available', 'at', 'the', 'hotel', '?', 'can', 'i', 'reserve', 'a', 'parking', 'lot', '?', 'what', 'are', 'the', 'reception', 'opening', 'hours', '?', 'can', 'i', 'also', 'book', 'breakfast', 'online', 'and', 'what', 'is', 'the', 'cost', '?', 'is', 'it', 'possible', 'to', 'book', 'spa', 'treatments', 'online', '?', 'can', 'i', 'book', 'tea', 'time', 'online', '?', 'can', 'i', 'bring', 'my', 'pet', '?', 'are', 'the', 'rates', 'per', 'person', 'or', 'per', 'room', '?', 'why', 'do', 'the', 'costs', 'vary', 'from', 'day', 'to', 'day', '?', 'can', 'i', 'book', 'two', 'rooms', 'of', 'different', 'categories', '?', 'can', 'i', 'book', 'two', 'rooms', 'with', 'different', 'occupancy', '?', 'is', 'wi-fi', 'available', 'at', 'the', 'hotel/in', 'the', 'room', '?', 'which', 'size', 'are', 'the', 'rooms', '?', 'can', 'i', 'reserve', 'a', 'table', 'in', 'a', 'restaurant', '?', 'do', 'you', 'offer', 'non-smoking', 'rooms', '?', 'do', 'you', 'offer', 'child', 'rates', '?', 'can', 'i', 'use', 'the', 'spa', 'area', 'even', 'if', 'i', 'am', 'not', 'staying', 'in', 'your', 'hotel', '?', 'can', 'i', 'use', 'the', 'spa', 'area', 'after', 'checking', 'out', '?', 'do', 'you', 'offer', 'hotel', 'shuttles', ',', 'for', 'example', ',', 'to', 'the', 'next', 'airport', 'or', 'train', 'station', '?', 'can', 'i', 'have', 'breakfast/dinner', 'even', 'if', 'i', 'am', 'not', 'staying', 'in', 'your', 'hotel', '?', 'are', 'special', 'requests', ',', 'such', 'as', 'gluten-free', 'meals', 'or', 'feather-free', 'pillows', ',', 'manageable', '?', 'i', 'have', 'bought', 'a', 'groupon-voucher', ',', 'how', 'can', 'i', 'redeem', 'it', 'in', 'your', 'hotel', '?', 'where', 'can', 'i', 'get', 'a', 'copy', 'of', 'my', 'invoice', 'after', 'departure', '?', 'what', 'should', 'i', 'do', ',', 'if', 'i', 'lost', 'or', 'forgot', 'something', 'in', 'my', 'room', '?']\n"
          ]
        }
      ],
      "source": [
        "word_tokens = nltk.word_tokenize(raw_data)\n",
        "print (word_tokens)"
      ]
    },
    {
      "cell_type": "code",
      "execution_count": null,
      "metadata": {
        "id": "-7sg_IsiaTGq"
      },
      "outputs": [],
      "source": [
        "lemmer = nltk.stem.WordNetLemmatizer()\n",
        "def LemTokens(tokens):\n",
        "    return [lemmer.lemmatize(token) for token in tokens]"
      ]
    },
    {
      "cell_type": "markdown",
      "metadata": {
        "id": "0UjEUIdNMxzc"
      },
      "source": [
        "translate() 함수는 문자열에서 특정 문자를 다른 문자로 변환하거나 제거할 때 사용됩니다. 이 함수는 문자열에 있는 각 문자를 변환하거나 제거하기 위해 특정 매핑 테이블을 사용합니다. 여기서 remove_punct_dict는 dictionary"
      ]
    },
    {
      "cell_type": "code",
      "execution_count": null,
      "metadata": {
        "id": "tNpTcnZQaTGq"
      },
      "outputs": [],
      "source": [
        "remove_punct_dict = dict((ord(punct), None) for punct in string.punctuation)\n",
        "def LemNormalize(text):\n",
        "    return LemTokens(nltk.word_tokenize(text.lower().translate(remove_punct_dict)))"
      ]
    },
    {
      "cell_type": "markdown",
      "metadata": {
        "id": "8yBNkjCkaTGq"
      },
      "source": [
        "## 2. 챗봇 기능 추가 - 코사인 유사성"
      ]
    },
    {
      "cell_type": "code",
      "execution_count": null,
      "metadata": {
        "id": "YKToF6tBaTGq"
      },
      "outputs": [],
      "source": [
        "GREETING_INPUTS = [\"hello\", \"hi\", \"greetings\", \"sup\", \"what's up\",\"hey\", \"hey there\"]\n",
        "GREETING_RESPONSES = [\"hi\", \"hey\", \"*nods*\", \"hi there\", \"hello\", \"I am glad! You are talking to me\"]\n",
        "\n",
        "def greeting(sentence):\n",
        "    for word in sentence.split():\n",
        "        if word.lower() in GREETING_INPUTS:\n",
        "            return random.choice(GREETING_RESPONSES)"
      ]
    },
    {
      "cell_type": "markdown",
      "metadata": {
        "id": "OG8J9Y4haTGq"
      },
      "source": [
        "챗봇의 기능은 챗봇을 실행하기 위한 루프를 만듦으로써 이루어집니다. 아래 기능을 살펴봅니다. 함수의 각 줄은 중요한 단계를 수행하기 위해 다른 함수를 호출하기 때문에 중요합니다. 'response' 함수는 챗봇이 어떻게 행동하는지에 대한 작동 방식을 담당합니다."
      ]
    },
    {
      "cell_type": "code",
      "execution_count": null,
      "metadata": {
        "id": "ljpdA9lXaTGq"
      },
      "outputs": [],
      "source": [
        "def response(user_response):\n",
        "\n",
        "    robo_response=''\n",
        "    sent_tokens.append(user_response)\n",
        "    TfidfVec = TfidfVectorizer(tokenizer=LemNormalize, stop_words='english')\n",
        "    tfidf = TfidfVec.fit_transform(sent_tokens)\n",
        "    vals = cosine_similarity(tfidf[-1], tfidf)\n",
        "    idx=vals.argsort()[0][-2]\n",
        "    flat = vals.flatten()\n",
        "    flat.sort()\n",
        "    req_tfidf = flat[-2]\n",
        "\n",
        "    if(req_tfidf==0):\n",
        "        robo_response=robo_response+\"I am sorry! I don't understand you\"\n",
        "        return robo_response, vals\n",
        "    else:\n",
        "        robo_response = robo_response+res[sent_tokens[idx]]\n",
        "        return robo_response, vals"
      ]
    },
    {
      "cell_type": "markdown",
      "metadata": {
        "id": "MObdf0DbaTGq"
      },
      "source": [
        "마지막으로 챗봇 인터페이스를 만들고 이를 중심으로 페르소나를 만들어 봅시다. 우리가 챗봇을 '제인'이라고 부르고 코사인 유사성을 사용하여 질문과 유사한 FAQ를 찾아 대답하도록 합시다."
      ]
    },
    {
      "cell_type": "code",
      "execution_count": null,
      "metadata": {
        "colab": {
          "base_uri": "https://localhost:8080/"
        },
        "id": "kAhwDtRAaTGr",
        "outputId": "6dc5e6b3-bcf5-4d8d-db00-c32884b1a966"
      },
      "outputs": [
        {
          "output_type": "stream",
          "name": "stdout",
          "text": [
            "Jane: My name is Jane. I will answer your queries about this hotel. If you want to exit, type Bye!\n",
            "what is the price for one night?\n",
            "Jane: 500$ per night is the price for a premium suite.\n",
            " (With similarity of  0.5883971074889468 )\n",
            "how many beds in a room?\n",
            "Jane: There are 43 rooms in this hotel including one pent house suite.\n",
            " (With similarity of  0.32885854491355493 )\n",
            "time\n",
            "Jane: Check in is at anytime between 10am and 1pm.\n",
            " (With similarity of  0.6133744667975128 )\n",
            "by\n",
            "Jane: I am sorry! I don't understand you\n",
            " (With similarity of  0.0 )\n",
            "bye\n",
            "Jane: Bye! take care..\n"
          ]
        }
      ],
      "source": [
        "import warnings\n",
        "\n",
        "warnings.filterwarnings(\"ignore\", category=UserWarning)\n",
        "\n",
        "flag=True\n",
        "print(\"Jane: My name is Jane. I will answer your queries about this hotel. If you want to exit, type Bye!\")\n",
        "while(flag==True):\n",
        "    user_response = input()\n",
        "    user_response=user_response.lower()\n",
        "    if(user_response!='bye'):\n",
        "        if(user_response=='thanks' or user_response=='thank you' ):\n",
        "            flag=False\n",
        "            print(\"Jane: You are welcome..\")\n",
        "        else:\n",
        "            if(greeting(user_response)!=None):\n",
        "                print(\"Jane: \"+greeting(user_response))\n",
        "\n",
        "            else:\n",
        "                print(\"Jane: \",end=\"\")\n",
        "                resp= response(user_response)\n",
        "                print(resp[0], )\n",
        "                sent_tokens.remove(user_response)\n",
        "                resp_l = resp[1].tolist()  # resp[1] 은 val 즉 코사인유사도 값인 2차원 리스트\n",
        "                resp_l[0].pop()\n",
        "                print(' (With similarity of ',max(resp_l[0]),')')\n",
        "\n",
        "    else:\n",
        "        flag=False\n",
        "        print(\"Jane: Bye! take care..\")\n"
      ]
    }
  ],
  "metadata": {
    "colab": {
      "provenance": [],
      "include_colab_link": true
    },
    "kernelspec": {
      "display_name": "Python 3 (ipykernel)",
      "language": "python",
      "name": "python3"
    },
    "language_info": {
      "codemirror_mode": {
        "name": "ipython",
        "version": 3
      },
      "file_extension": ".py",
      "mimetype": "text/x-python",
      "name": "python",
      "nbconvert_exporter": "python",
      "pygments_lexer": "ipython3",
      "version": "3.12.4"
    }
  },
  "nbformat": 4,
  "nbformat_minor": 0
}